{
 "cells": [
  {
   "cell_type": "markdown",
   "id": "b742510e",
   "metadata": {},
   "source": [
    "# Whats Up Nick?! \n",
    "---\n",
    "I hope this helps with your problem\n"
   ]
  },
  {
   "cell_type": "markdown",
   "id": "70e4ccb0",
   "metadata": {},
   "source": [
    "Once you select a cell, you can run it using SHIFT + ENTER\n"
   ]
  },
  {
   "cell_type": "code",
   "execution_count": 2,
   "id": "2157387c",
   "metadata": {},
   "outputs": [
    {
     "name": "stdout",
     "output_type": "stream",
     "text": [
      "What is your text?this is my reference: hellotherehowareyou\n"
     ]
    }
   ],
   "source": [
    "# Enter the text string you need to crop\n",
    "my_text = input(\"What is your text?\\n\")"
   ]
  },
  {
   "cell_type": "code",
   "execution_count": 9,
   "id": "c04bf039",
   "metadata": {},
   "outputs": [],
   "source": [
    "def crop_string(s):\n",
    "    # Find the location of the word 'reference:' in the string\n",
    "    idx = s.find(\"reference: \") + len(\"reference: \")\n",
    "    \n",
    "    # Crop following string by 14 chars or end of string\n",
    "    return s[idx:min(idx+14, len(s))]\n",
    "    "
   ]
  },
  {
   "cell_type": "code",
   "execution_count": 10,
   "id": "bfc8d5ce",
   "metadata": {},
   "outputs": [
    {
     "name": "stdout",
     "output_type": "stream",
     "text": [
      "Your cropped string is: \n",
      "hellotherehowa\n"
     ]
    }
   ],
   "source": [
    "cropped = crop_string(my_text)\n",
    "print(\"Your cropped string is: \\n{}\".format(cropped))"
   ]
  },
  {
   "cell_type": "code",
   "execution_count": null,
   "id": "0adc59a4",
   "metadata": {},
   "outputs": [],
   "source": []
  }
 ],
 "metadata": {
  "kernelspec": {
   "display_name": "Python 3",
   "language": "python",
   "name": "python3"
  },
  "language_info": {
   "codemirror_mode": {
    "name": "ipython",
    "version": 3
   },
   "file_extension": ".py",
   "mimetype": "text/x-python",
   "name": "python",
   "nbconvert_exporter": "python",
   "pygments_lexer": "ipython3",
   "version": "3.9.4"
  }
 },
 "nbformat": 4,
 "nbformat_minor": 5
}
